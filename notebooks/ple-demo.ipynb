{
 "cells": [
  {
   "cell_type": "code",
   "execution_count": 1,
   "id": "67febe95-dd8e-4564-8a5e-e641bb16906e",
   "metadata": {},
   "outputs": [
    {
     "name": "stderr",
     "output_type": "stream",
     "text": [
      "2024-03-31 11:08:50.539821: W tensorflow/compiler/tf2tensorrt/utils/py_utils.cc:38] TF-TRT Warning: Could not find TensorRT\n"
     ]
    }
   ],
   "source": [
    "import os\n",
    "os.environ[\"KERAS_BACKEND\"] = \"jax\"\n",
    "import keras\n",
    "import pandas as pd\n",
    "import numpy as np\n",
    "import pandas as pd\n",
    "import matplotlib.pyplot as plt\n",
    "from sklearn.model_selection import train_test_split\n",
    "from sklearn.metrics import roc_auc_score, average_precision_score, accuracy_score\n",
    "\n",
    "from sequential_ft_transformer.fttransformer import FTTransformer\n",
    "from sequential_ft_transformer.preprocessing import sq_df_to_dataset, download_data\n",
    "from sequential_ft_transformer.plotting import plot_importances, plot_training_hist\n"
   ]
  },
  {
   "cell_type": "markdown",
   "id": "3f89b597-3f3a-4079-bc7c-ad3fbf16dba8",
   "metadata": {},
   "source": [
    "## Download Data"
   ]
  },
  {
   "cell_type": "code",
   "execution_count": 2,
   "id": "3c1437d9",
   "metadata": {},
   "outputs": [],
   "source": [
    "data_folder = \"../data/\"\n",
    "seq_length = 1"
   ]
  },
  {
   "cell_type": "code",
   "execution_count": 3,
   "id": "fb22b679",
   "metadata": {},
   "outputs": [
    {
     "name": "stdout",
     "output_type": "stream",
     "text": [
      "adult_train.csv already exists in ../data/\n",
      "adult_test.csv already exists in ../data/\n",
      "Train dataset shape: (32561, 15)\n",
      "Test dataset shape: (16282, 15)\n"
     ]
    }
   ],
   "source": [
    "CSV_HEADER = [\n",
    "    \"age\",\n",
    "    \"workclass\",\n",
    "    \"fnlwgt\",\n",
    "    \"education\",\n",
    "    \"education_num\",\n",
    "    \"marital_status\",\n",
    "    \"occupation\",\n",
    "    \"relationship\",\n",
    "    \"race\",\n",
    "    \"gender\",\n",
    "    \"capital_gain\",\n",
    "    \"capital_loss\",\n",
    "    \"hours_per_week\",\n",
    "    \"native_country\",\n",
    "    \"income_bracket\",\n",
    "]\n",
    "\n",
    "train_data_url = \"https://archive.ics.uci.edu/ml/machine-learning-databases/adult/adult.data\"\n",
    "test_data_url = \"https://archive.ics.uci.edu/ml/machine-learning-databases/adult/adult.test\"\n",
    "\n",
    "download_data(train_data_url, data_folder, \"adult_train.csv\")\n",
    "download_data(test_data_url, data_folder, \"adult_test.csv\")\n",
    "\n",
    "train_data = pd.read_csv(os.path.join(data_folder, \"adult_train.csv\"), header=None, names=CSV_HEADER)\n",
    "test_data = pd.read_csv(os.path.join(data_folder, \"adult_test.csv\"), header=None, names=CSV_HEADER)\n",
    "\n",
    "print(f\"Train dataset shape: {train_data.shape}\")\n",
    "print(f\"Test dataset shape: {test_data.shape}\")"
   ]
  },
  {
   "cell_type": "code",
   "execution_count": 4,
   "id": "75521624-3f40-4aad-bbd4-cea5c5cb5782",
   "metadata": {},
   "outputs": [
    {
     "data": {
      "text/html": [
       "<div>\n",
       "<style scoped>\n",
       "    .dataframe tbody tr th:only-of-type {\n",
       "        vertical-align: middle;\n",
       "    }\n",
       "\n",
       "    .dataframe tbody tr th {\n",
       "        vertical-align: top;\n",
       "    }\n",
       "\n",
       "    .dataframe thead th {\n",
       "        text-align: right;\n",
       "    }\n",
       "</style>\n",
       "<table border=\"1\" class=\"dataframe\">\n",
       "  <thead>\n",
       "    <tr style=\"text-align: right;\">\n",
       "      <th></th>\n",
       "      <th>age</th>\n",
       "      <th>workclass</th>\n",
       "      <th>fnlwgt</th>\n",
       "      <th>education</th>\n",
       "      <th>education_num</th>\n",
       "      <th>marital_status</th>\n",
       "      <th>occupation</th>\n",
       "      <th>relationship</th>\n",
       "      <th>race</th>\n",
       "      <th>gender</th>\n",
       "      <th>capital_gain</th>\n",
       "      <th>capital_loss</th>\n",
       "      <th>hours_per_week</th>\n",
       "      <th>native_country</th>\n",
       "      <th>income_bracket</th>\n",
       "    </tr>\n",
       "  </thead>\n",
       "  <tbody>\n",
       "    <tr>\n",
       "      <th>0</th>\n",
       "      <td>39</td>\n",
       "      <td>State-gov</td>\n",
       "      <td>77516</td>\n",
       "      <td>Bachelors</td>\n",
       "      <td>13</td>\n",
       "      <td>Never-married</td>\n",
       "      <td>Adm-clerical</td>\n",
       "      <td>Not-in-family</td>\n",
       "      <td>White</td>\n",
       "      <td>Male</td>\n",
       "      <td>2174</td>\n",
       "      <td>0</td>\n",
       "      <td>40</td>\n",
       "      <td>United-States</td>\n",
       "      <td>&lt;=50K</td>\n",
       "    </tr>\n",
       "    <tr>\n",
       "      <th>1</th>\n",
       "      <td>50</td>\n",
       "      <td>Self-emp-not-inc</td>\n",
       "      <td>83311</td>\n",
       "      <td>Bachelors</td>\n",
       "      <td>13</td>\n",
       "      <td>Married-civ-spouse</td>\n",
       "      <td>Exec-managerial</td>\n",
       "      <td>Husband</td>\n",
       "      <td>White</td>\n",
       "      <td>Male</td>\n",
       "      <td>0</td>\n",
       "      <td>0</td>\n",
       "      <td>13</td>\n",
       "      <td>United-States</td>\n",
       "      <td>&lt;=50K</td>\n",
       "    </tr>\n",
       "    <tr>\n",
       "      <th>2</th>\n",
       "      <td>38</td>\n",
       "      <td>Private</td>\n",
       "      <td>215646</td>\n",
       "      <td>HS-grad</td>\n",
       "      <td>9</td>\n",
       "      <td>Divorced</td>\n",
       "      <td>Handlers-cleaners</td>\n",
       "      <td>Not-in-family</td>\n",
       "      <td>White</td>\n",
       "      <td>Male</td>\n",
       "      <td>0</td>\n",
       "      <td>0</td>\n",
       "      <td>40</td>\n",
       "      <td>United-States</td>\n",
       "      <td>&lt;=50K</td>\n",
       "    </tr>\n",
       "    <tr>\n",
       "      <th>3</th>\n",
       "      <td>53</td>\n",
       "      <td>Private</td>\n",
       "      <td>234721</td>\n",
       "      <td>11th</td>\n",
       "      <td>7</td>\n",
       "      <td>Married-civ-spouse</td>\n",
       "      <td>Handlers-cleaners</td>\n",
       "      <td>Husband</td>\n",
       "      <td>Black</td>\n",
       "      <td>Male</td>\n",
       "      <td>0</td>\n",
       "      <td>0</td>\n",
       "      <td>40</td>\n",
       "      <td>United-States</td>\n",
       "      <td>&lt;=50K</td>\n",
       "    </tr>\n",
       "    <tr>\n",
       "      <th>4</th>\n",
       "      <td>28</td>\n",
       "      <td>Private</td>\n",
       "      <td>338409</td>\n",
       "      <td>Bachelors</td>\n",
       "      <td>13</td>\n",
       "      <td>Married-civ-spouse</td>\n",
       "      <td>Prof-specialty</td>\n",
       "      <td>Wife</td>\n",
       "      <td>Black</td>\n",
       "      <td>Female</td>\n",
       "      <td>0</td>\n",
       "      <td>0</td>\n",
       "      <td>40</td>\n",
       "      <td>Cuba</td>\n",
       "      <td>&lt;=50K</td>\n",
       "    </tr>\n",
       "  </tbody>\n",
       "</table>\n",
       "</div>"
      ],
      "text/plain": [
       "   age          workclass  fnlwgt   education  education_num  \\\n",
       "0   39          State-gov   77516   Bachelors             13   \n",
       "1   50   Self-emp-not-inc   83311   Bachelors             13   \n",
       "2   38            Private  215646     HS-grad              9   \n",
       "3   53            Private  234721        11th              7   \n",
       "4   28            Private  338409   Bachelors             13   \n",
       "\n",
       "        marital_status          occupation    relationship    race   gender  \\\n",
       "0        Never-married        Adm-clerical   Not-in-family   White     Male   \n",
       "1   Married-civ-spouse     Exec-managerial         Husband   White     Male   \n",
       "2             Divorced   Handlers-cleaners   Not-in-family   White     Male   \n",
       "3   Married-civ-spouse   Handlers-cleaners         Husband   Black     Male   \n",
       "4   Married-civ-spouse      Prof-specialty            Wife   Black   Female   \n",
       "\n",
       "   capital_gain  capital_loss  hours_per_week  native_country income_bracket  \n",
       "0          2174             0              40   United-States          <=50K  \n",
       "1             0             0              13   United-States          <=50K  \n",
       "2             0             0              40   United-States          <=50K  \n",
       "3             0             0              40   United-States          <=50K  \n",
       "4             0             0              40            Cuba          <=50K  "
      ]
     },
     "execution_count": 4,
     "metadata": {},
     "output_type": "execute_result"
    }
   ],
   "source": [
    "train_data.head()"
   ]
  },
  {
   "cell_type": "markdown",
   "id": "89bff333-3750-46c9-b687-3f06a8f43845",
   "metadata": {},
   "source": [
    "## Preprocess"
   ]
  },
  {
   "cell_type": "code",
   "execution_count": 5,
   "id": "420201d9-eb7d-4873-bae8-2296fef046c4",
   "metadata": {},
   "outputs": [],
   "source": [
    "# Column information\n",
    "NUMERIC_FEATURES = ['age', 'education_num', 'capital_gain', 'capital_loss', 'hours_per_week']\n",
    "NUMERIC_FEATURES = sorted(NUMERIC_FEATURES)\n",
    "CATEGORICAL_FEATURES = ['workclass', 'education', 'marital_status', 'occupation', 'relationship', 'race', 'gender', 'native_country']\n",
    "CATEGORICAL_FEATURES = sorted(CATEGORICAL_FEATURES)\n",
    "\n",
    "FEATURES = sorted(list(NUMERIC_FEATURES) + list(CATEGORICAL_FEATURES))\n",
    "LABEL = 'income_bracket'"
   ]
  },
  {
   "cell_type": "code",
   "execution_count": 6,
   "id": "aaa2d685-44be-410a-89cf-acdd4a069adb",
   "metadata": {},
   "outputs": [],
   "source": [
    "# encoding as binary target\n",
    "train_data[LABEL] = train_data[LABEL].apply(lambda x: int(x == ' >50K')) \n",
    "test_data[LABEL] = test_data[LABEL].apply(lambda x: int(x == ' >50K.'))"
   ]
  },
  {
   "cell_type": "code",
   "execution_count": 7,
   "id": "3d862d5d",
   "metadata": {},
   "outputs": [],
   "source": [
    "train_data = train_data.dropna()\n",
    "test_data = test_data.dropna()"
   ]
  },
  {
   "cell_type": "code",
   "execution_count": 8,
   "id": "ecc0f932",
   "metadata": {},
   "outputs": [],
   "source": [
    "train_input = train_data[FEATURES]\n",
    "train_labels = train_data[LABEL]\n",
    "\n",
    "test_input = test_data[FEATURES]\n",
    "test_labels = test_data[LABEL]"
   ]
  },
  {
   "cell_type": "markdown",
   "id": "a3257304",
   "metadata": {},
   "source": [
    "## Get Lookup Tables for Each Categorical Column"
   ]
  },
  {
   "cell_type": "code",
   "execution_count": 9,
   "id": "e93bce4e",
   "metadata": {},
   "outputs": [
    {
     "name": "stderr",
     "output_type": "stream",
     "text": [
      "2024-03-31 11:08:50.994288: W tensorflow/core/common_runtime/gpu/gpu_device.cc:2251] Cannot dlopen some GPU libraries. Please make sure the missing libraries mentioned above are installed properly if you would like to use GPU. Follow the guide at https://www.tensorflow.org/install/gpu for how to download and setup the required libraries for your platform.\n",
      "Skipping registering GPU devices...\n"
     ]
    }
   ],
   "source": [
    "cat_lookups = dict()\n",
    "feature_unique_counts = dict()\n",
    "num_oov_indices = 1\n",
    "for cat in CATEGORICAL_FEATURES:\n",
    "    unique_values = list(np.unique(train_input[cat]).astype(str))\n",
    "    feature_unique_counts[cat] = len(unique_values) + num_oov_indices\n",
    "    lookup = keras.layers.StringLookup(vocabulary=unique_values, num_oov_indices=num_oov_indices)\n",
    "    cat_lookups[cat] = lookup"
   ]
  },
  {
   "cell_type": "markdown",
   "id": "410368ff",
   "metadata": {},
   "source": [
    "## Convert Each Categorical String to an ID"
   ]
  },
  {
   "cell_type": "code",
   "execution_count": 10,
   "id": "c43ae782",
   "metadata": {},
   "outputs": [
    {
     "name": "stderr",
     "output_type": "stream",
     "text": [
      "/tmp/ipykernel_36095/1451819549.py:2: SettingWithCopyWarning: \n",
      "A value is trying to be set on a copy of a slice from a DataFrame.\n",
      "Try using .loc[row_indexer,col_indexer] = value instead\n",
      "\n",
      "See the caveats in the documentation: https://pandas.pydata.org/pandas-docs/stable/user_guide/indexing.html#returning-a-view-versus-a-copy\n",
      "  train_input[cat] = cat_lookups[cat](train_input[cat])\n",
      "/tmp/ipykernel_36095/1451819549.py:3: SettingWithCopyWarning: \n",
      "A value is trying to be set on a copy of a slice from a DataFrame.\n",
      "Try using .loc[row_indexer,col_indexer] = value instead\n",
      "\n",
      "See the caveats in the documentation: https://pandas.pydata.org/pandas-docs/stable/user_guide/indexing.html#returning-a-view-versus-a-copy\n",
      "  test_input[cat] = cat_lookups[cat](test_input[cat])\n"
     ]
    }
   ],
   "source": [
    "for cat in CATEGORICAL_FEATURES:\n",
    "    train_input[cat] = cat_lookups[cat](train_input[cat])\n",
    "    test_input[cat] = cat_lookups[cat](test_input[cat])"
   ]
  },
  {
   "cell_type": "code",
   "execution_count": 11,
   "id": "25986888-5dc1-497c-96c7-bc5e5411c105",
   "metadata": {},
   "outputs": [],
   "source": [
    "train_input.loc[:, CATEGORICAL_FEATURES] = train_input[CATEGORICAL_FEATURES].astype(int)\n",
    "test_input.loc[:, CATEGORICAL_FEATURES] = test_input[CATEGORICAL_FEATURES].astype(int)\n",
    "\n",
    "train_input.loc[:, NUMERIC_FEATURES] = train_input[NUMERIC_FEATURES].astype(float)\n",
    "test_input.loc[:, NUMERIC_FEATURES] = test_input[NUMERIC_FEATURES].astype(float)"
   ]
  },
  {
   "cell_type": "code",
   "execution_count": 12,
   "id": "14f1b7d3",
   "metadata": {},
   "outputs": [],
   "source": [
    "train_labels = train_labels.to_frame(name=LABEL)\n",
    "test_labels = test_labels.to_frame(name=LABEL)"
   ]
  },
  {
   "cell_type": "code",
   "execution_count": 13,
   "id": "0976bb57",
   "metadata": {},
   "outputs": [],
   "source": [
    "x_train, x_val, y_train, y_val = train_test_split(train_input, train_labels, test_size=0.2)"
   ]
  },
  {
   "cell_type": "markdown",
   "id": "a07ad92f-f1b9-46ad-9b61-831cbc903e22",
   "metadata": {},
   "source": [
    "## Create TF Datasets"
   ]
  },
  {
   "cell_type": "code",
   "execution_count": 14,
   "id": "b133bc1d",
   "metadata": {},
   "outputs": [],
   "source": [
    "batch_size = 1000\n",
    "train_dataset = sq_df_to_dataset(\n",
    "    x_train, \n",
    "    seq_length, \n",
    "    target_df=y_train, \n",
    "    target=LABEL, \n",
    "    categorical_features=CATEGORICAL_FEATURES, \n",
    "    numerical_features=NUMERIC_FEATURES, \n",
    "    batch_size=batch_size\n",
    ")\n",
    "val_dataset = sq_df_to_dataset(\n",
    "    x_val, \n",
    "    seq_length, \n",
    "    target_df=y_val, \n",
    "    target=LABEL, \n",
    "    categorical_features=CATEGORICAL_FEATURES, \n",
    "    numerical_features=NUMERIC_FEATURES, \n",
    "    shuffle=False, # No shuffle\n",
    "    batch_size=batch_size\n",
    ")  \n",
    "test_dataset = sq_df_to_dataset(\n",
    "    test_input, \n",
    "    seq_length, \n",
    "    categorical_features=CATEGORICAL_FEATURES, \n",
    "    numerical_features=NUMERIC_FEATURES, \n",
    "    shuffle=False, \n",
    "    batch_size=batch_size) # No target, no shuffle"
   ]
  },
  {
   "cell_type": "markdown",
   "id": "ff4fe154",
   "metadata": {},
   "source": [
    "## Create bins for PLE"
   ]
  },
  {
   "cell_type": "markdown",
   "id": "1be8f896",
   "metadata": {},
   "source": [
    "## Target-Aware Bins"
   ]
  },
  {
   "cell_type": "code",
   "execution_count": 15,
   "id": "e0de1b85",
   "metadata": {},
   "outputs": [],
   "source": [
    "from sklearn.tree import DecisionTreeClassifier\n",
    "\n",
    "N_BINS = 10\n",
    "\n",
    "t_bins_dict = dict()\n",
    "for feature in NUMERIC_FEATURES:\n",
    "    data = x_train[feature].values.reshape(-1, 1)\n",
    "    y = y_train[LABEL].values\n",
    "\n",
    "    dt = DecisionTreeClassifier(max_leaf_nodes=N_BINS)\n",
    "    dt.fit(data, y)\n",
    "    bins = np.unique(dt.tree_.threshold).astype(\"float32\")\n",
    "    t_bins_dict[feature] = bins"
   ]
  },
  {
   "cell_type": "code",
   "execution_count": 16,
   "id": "ab3c99ef",
   "metadata": {},
   "outputs": [
    {
     "data": {
      "text/plain": [
       "{'age': array([-2. , 24.5, 27.5, 29.5, 33.5, 35.5, 43.5, 49.5, 54.5, 61.5],\n",
       "       dtype=float32),\n",
       " 'capital_gain': array([-2.0000e+00,  5.7000e+01,  3.0480e+03,  3.1200e+03,  4.2435e+03,\n",
       "         4.4010e+03,  5.0955e+03,  5.3165e+03,  6.6185e+03,  7.0735e+03],\n",
       "       dtype=float32),\n",
       " 'capital_loss': array([-2.0000e+00,  1.5515e+03,  1.5685e+03,  1.8205e+03,  1.8620e+03,\n",
       "         1.8815e+03,  1.9785e+03,  2.1685e+03,  2.3645e+03,  3.3435e+03],\n",
       "       dtype=float32),\n",
       " 'education_num': array([-2. ,  3.5,  6.5,  7.5,  8.5,  9.5, 10.5, 12.5, 13.5, 14.5],\n",
       "       dtype=float32),\n",
       " 'hours_per_week': array([-2. , 34.5, 38.5, 41.5, 43.5, 45.5, 49.5, 65.5, 66.5, 90.5],\n",
       "       dtype=float32)}"
      ]
     },
     "execution_count": 16,
     "metadata": {},
     "output_type": "execute_result"
    }
   ],
   "source": [
    "t_bins_dict"
   ]
  },
  {
   "cell_type": "markdown",
   "id": "84b87187",
   "metadata": {},
   "source": [
    "## Quantile Bins"
   ]
  },
  {
   "cell_type": "code",
   "execution_count": 17,
   "id": "779a0993",
   "metadata": {},
   "outputs": [],
   "source": [
    "N_BINS = 10\n",
    "\n",
    "interval = 1 / N_BINS\n",
    "intervals = np.arange(0.0, 1 + interval, interval)\n",
    "\n",
    "q_bins_dict = dict()\n",
    "for feature in NUMERIC_FEATURES:\n",
    "    data = x_train[feature]\n",
    "\n",
    "    bins = np.quantile(np.unique(data.values), intervals)\n",
    "    q_bins_dict[feature] = bins"
   ]
  },
  {
   "cell_type": "code",
   "execution_count": 18,
   "id": "48aae0a2",
   "metadata": {},
   "outputs": [
    {
     "data": {
      "text/plain": [
       "{'age': array([17. , 24.2, 31.4, 38.6, 45.8, 53. , 60.2, 67.4, 74.6, 81.8, 90. ]),\n",
       " 'capital_gain': array([    0. ,  1418. ,  2070.6,  2412.6,  2962.2,  3464. ,  4471.2,\n",
       "         5796.2,  7639. , 14614.4, 99999. ]),\n",
       " 'capital_loss': array([   0. ,  985.8, 1511. , 1634. , 1737. , 1881.5, 2047.4, 2203.8,\n",
       "        2349.4, 2541.2, 4356. ]),\n",
       " 'education_num': array([ 1. ,  2.5,  4. ,  5.5,  7. ,  8.5, 10. , 11.5, 13. , 14.5, 16. ]),\n",
       " 'hours_per_week': array([ 1. , 10.3, 19.6, 28.9, 38.2, 47.5, 56.8, 66.1, 77.4, 88.7, 99. ])}"
      ]
     },
     "execution_count": 18,
     "metadata": {},
     "output_type": "execute_result"
    }
   ],
   "source": [
    "q_bins_dict"
   ]
  },
  {
   "cell_type": "markdown",
   "id": "9342c4cd-d309-420f-b966-c6377030d6d4",
   "metadata": {},
   "source": [
    "## Target-Aware PLE Numerical Embedding FT-Transformer"
   ]
  },
  {
   "cell_type": "code",
   "execution_count": 19,
   "id": "84d82393",
   "metadata": {},
   "outputs": [],
   "source": [
    "# Explanations need to be set to false until the following bug is fixed: https://github.com/keras-team/keras/issues/19303\n",
    "EXPLANATIONS = False \n",
    "LEARNING_RATE = 0.0005\n",
    "WEIGHT_DECAY = 0.0001\n",
    "NUM_EPOCHS = 10"
   ]
  },
  {
   "cell_type": "code",
   "execution_count": 20,
   "id": "e29156d1-7d28-439b-9e00-2a98e38f1fb1",
   "metadata": {
    "collapsed": true,
    "jupyter": {
     "outputs_hidden": true
    },
    "tags": []
   },
   "outputs": [],
   "source": [
    "model = FTTransformer(\n",
    "    out_dim=1,\n",
    "    out_activation='sigmoid',\n",
    "    feature_unique_counts=feature_unique_counts,\n",
    "    numerical_features=NUMERIC_FEATURES,\n",
    "    categorical_features=CATEGORICAL_FEATURES,\n",
    "    seq_length=seq_length,\n",
    "    numerical_embedding_type='ple',\n",
    "    bins_dict=t_bins_dict,\n",
    "    explainable=EXPLANATIONS    \n",
    ")\n",
    "\n",
    "optimizer = keras.optimizers.AdamW(\n",
    "        learning_rate=LEARNING_RATE, weight_decay=WEIGHT_DECAY\n",
    "    )\n",
    "\n",
    "loss = keras.losses.BinaryCrossentropy()\n",
    "metrics = [keras.metrics.AUC(name=\"PR AUC\", curve='PR')]\n",
    "# Explanations need to be reworked once the bug is fixed\n",
    "# if EXPLANATIONS:\n",
    "#     loss_dict.update({\"importances\": None})\n",
    "#     metrics_dict.update({\"importances\": None})\n",
    "model.compile(\n",
    "    optimizer=optimizer,\n",
    "    loss=loss,\n",
    "    metrics=metrics,\n",
    ")\n",
    "\n",
    "early = keras.callbacks.EarlyStopping(monitor=\"val_loss\", mode=\"min\", patience=20, restore_best_weights=True)\n",
    "callback_list = [early]"
   ]
  },
  {
   "cell_type": "code",
   "execution_count": 21,
   "id": "381e7dc1",
   "metadata": {},
   "outputs": [
    {
     "name": "stdout",
     "output_type": "stream",
     "text": [
      "Epoch 1/10\n",
      "\u001b[1m21/27\u001b[0m \u001b[32m━━━━━━━━━━━━━━━\u001b[0m\u001b[37m━━━━━\u001b[0m \u001b[1m0s\u001b[0m 30ms/step - PR AUC: 0.5596 - loss: 0.4395"
     ]
    },
    {
     "name": "stderr",
     "output_type": "stream",
     "text": [
      "2024-03-31 11:09:02.751880: W tensorflow/core/framework/local_rendezvous.cc:404] Local rendezvous is aborting with status: OUT_OF_RANGE: End of sequence\n"
     ]
    },
    {
     "name": "stdout",
     "output_type": "stream",
     "text": [
      "\u001b[1m27/27\u001b[0m \u001b[32m━━━━━━━━━━━━━━━━━━━━\u001b[0m\u001b[37m\u001b[0m \u001b[1m0s\u001b[0m 285ms/step - PR AUC: 0.5830 - loss: 0.4272"
     ]
    },
    {
     "name": "stderr",
     "output_type": "stream",
     "text": [
      "2024-03-31 11:09:12.032502: W tensorflow/core/framework/local_rendezvous.cc:404] Local rendezvous is aborting with status: OUT_OF_RANGE: End of sequence\n"
     ]
    },
    {
     "name": "stdout",
     "output_type": "stream",
     "text": [
      "\u001b[1m27/27\u001b[0m \u001b[32m━━━━━━━━━━━━━━━━━━━━\u001b[0m\u001b[37m\u001b[0m \u001b[1m21s\u001b[0m 495ms/step - PR AUC: 0.5862 - loss: 0.4256 - val_PR AUC: 0.5703 - val_loss: 0.5668\n",
      "Epoch 2/10\n",
      "\u001b[1m27/27\u001b[0m \u001b[32m━━━━━━━━━━━━━━━━━━━━\u001b[0m\u001b[37m\u001b[0m \u001b[1m0s\u001b[0m 10ms/step - PR AUC: 0.7711 - loss: 0.3240 - val_PR AUC: 0.5079 - val_loss: 0.9196\n",
      "Epoch 3/10\n",
      "\u001b[1m 7/27\u001b[0m \u001b[32m━━━━━\u001b[0m\u001b[37m━━━━━━━━━━━━━━━\u001b[0m \u001b[1m0s\u001b[0m 9ms/step - PR AUC: 0.8100 - loss: 0.2943 "
     ]
    },
    {
     "name": "stderr",
     "output_type": "stream",
     "text": [
      "2024-03-31 11:09:15.240521: W tensorflow/core/framework/local_rendezvous.cc:404] Local rendezvous is aborting with status: OUT_OF_RANGE: End of sequence\n",
      "2024-03-31 11:09:15.283013: W tensorflow/core/framework/local_rendezvous.cc:404] Local rendezvous is aborting with status: OUT_OF_RANGE: End of sequence\n"
     ]
    },
    {
     "name": "stdout",
     "output_type": "stream",
     "text": [
      "\u001b[1m27/27\u001b[0m \u001b[32m━━━━━━━━━━━━━━━━━━━━\u001b[0m\u001b[37m\u001b[0m \u001b[1m0s\u001b[0m 10ms/step - PR AUC: 0.7916 - loss: 0.3042 - val_PR AUC: 0.5577 - val_loss: 0.8110\n",
      "Epoch 4/10\n",
      "\u001b[1m 7/27\u001b[0m \u001b[32m━━━━━\u001b[0m\u001b[37m━━━━━━━━━━━━━━━\u001b[0m \u001b[1m0s\u001b[0m 9ms/step - PR AUC: 0.7939 - loss: 0.3006 "
     ]
    },
    {
     "name": "stderr",
     "output_type": "stream",
     "text": [
      "2024-03-31 11:09:15.545300: W tensorflow/core/framework/local_rendezvous.cc:404] Local rendezvous is aborting with status: OUT_OF_RANGE: End of sequence\n",
      "2024-03-31 11:09:15.595412: W tensorflow/core/framework/local_rendezvous.cc:404] Local rendezvous is aborting with status: OUT_OF_RANGE: End of sequence\n"
     ]
    },
    {
     "name": "stdout",
     "output_type": "stream",
     "text": [
      "\u001b[1m27/27\u001b[0m \u001b[32m━━━━━━━━━━━━━━━━━━━━\u001b[0m\u001b[37m\u001b[0m \u001b[1m0s\u001b[0m 11ms/step - PR AUC: 0.7900 - loss: 0.3052 - val_PR AUC: 0.5702 - val_loss: 0.8684\n",
      "Epoch 5/10\n",
      "\u001b[1m 8/27\u001b[0m \u001b[32m━━━━━\u001b[0m\u001b[37m━━━━━━━━━━━━━━━\u001b[0m \u001b[1m0s\u001b[0m 8ms/step - PR AUC: 0.7903 - loss: 0.3027 "
     ]
    },
    {
     "name": "stderr",
     "output_type": "stream",
     "text": [
      "2024-03-31 11:09:15.861126: W tensorflow/core/framework/local_rendezvous.cc:404] Local rendezvous is aborting with status: OUT_OF_RANGE: End of sequence\n",
      "2024-03-31 11:09:15.911380: W tensorflow/core/framework/local_rendezvous.cc:404] Local rendezvous is aborting with status: OUT_OF_RANGE: End of sequence\n"
     ]
    },
    {
     "name": "stdout",
     "output_type": "stream",
     "text": [
      "\u001b[1m27/27\u001b[0m \u001b[32m━━━━━━━━━━━━━━━━━━━━\u001b[0m\u001b[37m\u001b[0m \u001b[1m0s\u001b[0m 11ms/step - PR AUC: 0.7877 - loss: 0.3040 - val_PR AUC: 0.6287 - val_loss: 0.5837\n",
      "Epoch 6/10\n",
      "\u001b[1m 7/27\u001b[0m \u001b[32m━━━━━\u001b[0m\u001b[37m━━━━━━━━━━━━━━━\u001b[0m \u001b[1m0s\u001b[0m 9ms/step - PR AUC: 0.7952 - loss: 0.3158 "
     ]
    },
    {
     "name": "stderr",
     "output_type": "stream",
     "text": [
      "2024-03-31 11:09:16.193790: W tensorflow/core/framework/local_rendezvous.cc:404] Local rendezvous is aborting with status: OUT_OF_RANGE: End of sequence\n",
      "2024-03-31 11:09:16.236344: W tensorflow/core/framework/local_rendezvous.cc:404] Local rendezvous is aborting with status: OUT_OF_RANGE: End of sequence\n"
     ]
    },
    {
     "name": "stdout",
     "output_type": "stream",
     "text": [
      "\u001b[1m27/27\u001b[0m \u001b[32m━━━━━━━━━━━━━━━━━━━━\u001b[0m\u001b[37m\u001b[0m \u001b[1m0s\u001b[0m 10ms/step - PR AUC: 0.7963 - loss: 0.3062 - val_PR AUC: 0.6411 - val_loss: 0.6202\n",
      "Epoch 7/10\n",
      "\u001b[1m 7/27\u001b[0m \u001b[32m━━━━━\u001b[0m\u001b[37m━━━━━━━━━━━━━━━\u001b[0m \u001b[1m0s\u001b[0m 9ms/step - PR AUC: 0.8048 - loss: 0.2931 "
     ]
    },
    {
     "name": "stderr",
     "output_type": "stream",
     "text": [
      "2024-03-31 11:09:16.498444: W tensorflow/core/framework/local_rendezvous.cc:404] Local rendezvous is aborting with status: OUT_OF_RANGE: End of sequence\n",
      "2024-03-31 11:09:16.541679: W tensorflow/core/framework/local_rendezvous.cc:404] Local rendezvous is aborting with status: OUT_OF_RANGE: End of sequence\n"
     ]
    },
    {
     "name": "stdout",
     "output_type": "stream",
     "text": [
      "\u001b[1m27/27\u001b[0m \u001b[32m━━━━━━━━━━━━━━━━━━━━\u001b[0m\u001b[37m\u001b[0m \u001b[1m0s\u001b[0m 10ms/step - PR AUC: 0.8020 - loss: 0.2969 - val_PR AUC: 0.6238 - val_loss: 0.7609\n",
      "Epoch 8/10\n",
      "\u001b[1m14/27\u001b[0m \u001b[32m━━━━━━━━━━\u001b[0m\u001b[37m━━━━━━━━━━\u001b[0m \u001b[1m0s\u001b[0m 8ms/step - PR AUC: 0.7989 - loss: 0.3023"
     ]
    },
    {
     "name": "stderr",
     "output_type": "stream",
     "text": [
      "2024-03-31 11:09:16.807484: W tensorflow/core/framework/local_rendezvous.cc:404] Local rendezvous is aborting with status: OUT_OF_RANGE: End of sequence\n",
      "2024-03-31 11:09:16.846256: W tensorflow/core/framework/local_rendezvous.cc:404] Local rendezvous is aborting with status: OUT_OF_RANGE: End of sequence\n"
     ]
    },
    {
     "name": "stdout",
     "output_type": "stream",
     "text": [
      "\u001b[1m27/27\u001b[0m \u001b[32m━━━━━━━━━━━━━━━━━━━━\u001b[0m\u001b[37m\u001b[0m \u001b[1m0s\u001b[0m 11ms/step - PR AUC: 0.7997 - loss: 0.3008 - val_PR AUC: 0.6569 - val_loss: 0.6788\n",
      "Epoch 9/10\n",
      "\u001b[1m 7/27\u001b[0m \u001b[32m━━━━━\u001b[0m\u001b[37m━━━━━━━━━━━━━━━\u001b[0m \u001b[1m0s\u001b[0m 9ms/step - PR AUC: 0.7989 - loss: 0.2978 "
     ]
    },
    {
     "name": "stderr",
     "output_type": "stream",
     "text": [
      "2024-03-31 11:09:17.111527: W tensorflow/core/framework/local_rendezvous.cc:404] Local rendezvous is aborting with status: OUT_OF_RANGE: End of sequence\n",
      "2024-03-31 11:09:17.160164: W tensorflow/core/framework/local_rendezvous.cc:404] Local rendezvous is aborting with status: OUT_OF_RANGE: End of sequence\n"
     ]
    },
    {
     "name": "stdout",
     "output_type": "stream",
     "text": [
      "\u001b[1m27/27\u001b[0m \u001b[32m━━━━━━━━━━━━━━━━━━━━\u001b[0m\u001b[37m\u001b[0m \u001b[1m0s\u001b[0m 11ms/step - PR AUC: 0.8041 - loss: 0.2952 - val_PR AUC: 0.6425 - val_loss: 0.7193\n",
      "Epoch 10/10\n",
      "\u001b[1m 7/27\u001b[0m \u001b[32m━━━━━\u001b[0m\u001b[37m━━━━━━━━━━━━━━━\u001b[0m \u001b[1m0s\u001b[0m 9ms/step - PR AUC: 0.7898 - loss: 0.3110 "
     ]
    },
    {
     "name": "stderr",
     "output_type": "stream",
     "text": [
      "2024-03-31 11:09:17.424955: W tensorflow/core/framework/local_rendezvous.cc:404] Local rendezvous is aborting with status: OUT_OF_RANGE: End of sequence\n",
      "2024-03-31 11:09:17.471411: W tensorflow/core/framework/local_rendezvous.cc:404] Local rendezvous is aborting with status: OUT_OF_RANGE: End of sequence\n"
     ]
    },
    {
     "name": "stdout",
     "output_type": "stream",
     "text": [
      "\u001b[1m27/27\u001b[0m \u001b[32m━━━━━━━━━━━━━━━━━━━━\u001b[0m\u001b[37m\u001b[0m \u001b[1m0s\u001b[0m 10ms/step - PR AUC: 0.7953 - loss: 0.3013 - val_PR AUC: 0.6490 - val_loss: 0.6351\n"
     ]
    },
    {
     "name": "stderr",
     "output_type": "stream",
     "text": [
      "2024-03-31 11:09:17.735190: W tensorflow/core/framework/local_rendezvous.cc:404] Local rendezvous is aborting with status: OUT_OF_RANGE: End of sequence\n",
      "2024-03-31 11:09:17.780094: W tensorflow/core/framework/local_rendezvous.cc:404] Local rendezvous is aborting with status: OUT_OF_RANGE: End of sequence\n"
     ]
    }
   ],
   "source": [
    "hist = model.fit(\n",
    "    train_dataset, \n",
    "    epochs=NUM_EPOCHS, \n",
    "    validation_data=val_dataset,\n",
    "    callbacks=callback_list\n",
    ")"
   ]
  },
  {
   "cell_type": "code",
   "execution_count": 22,
   "id": "78bf74e5",
   "metadata": {},
   "outputs": [
    {
     "data": {
      "image/png": "[encoded data removed]",
      "text/plain": [
       "<Figure size 2000x1000 with 2 Axes>"
      ]
     },
     "metadata": {},
     "output_type": "display_data"
    }
   ],
   "source": [
    "hist_plot = plot_training_hist(hist.history, EXPLANATIONS)"
   ]
  },
  {
   "cell_type": "code",
   "execution_count": 23,
   "id": "bb8d3a81-2009-4242-a196-a5ea25171e46",
   "metadata": {},
   "outputs": [
    {
     "name": "stdout",
     "output_type": "stream",
     "text": [
      "\u001b[1m 1/17\u001b[0m \u001b[32m━\u001b[0m\u001b[37m━━━━━━━━━━━━━━━━━━━\u001b[0m \u001b[1m27s\u001b[0m 2s/step"
     ]
    },
    {
     "name": "stderr",
     "output_type": "stream",
     "text": [
      "2024-03-31 11:09:19.729673: W tensorflow/core/framework/local_rendezvous.cc:404] Local rendezvous is aborting with status: OUT_OF_RANGE: End of sequence\n"
     ]
    },
    {
     "name": "stdout",
     "output_type": "stream",
     "text": [
      "\u001b[1m17/17\u001b[0m \u001b[32m━━━━━━━━━━━━━━━━━━━━\u001b[0m\u001b[37m\u001b[0m \u001b[1m4s\u001b[0m 158ms/step\n",
      "Test ROC AUC: 0.888\n",
      "Test PR AUC: 0.7052\n",
      "Test Accuracy: 0.802\n"
     ]
    }
   ],
   "source": [
    "preds = model.predict(test_dataset)\n",
    "flat_preds = preds.ravel()\n",
    "print(\"Test ROC AUC:\", np.round(roc_auc_score(test_data[LABEL], flat_preds), 4))\n",
    "print(\"Test PR AUC:\", np.round(average_precision_score(test_data[LABEL], flat_preds), 4))\n",
    "print(\"Test Accuracy:\", np.round(accuracy_score(test_data[LABEL], flat_preds > 0.5), 4))\n",
    "\n",
    "# Reported accuracy - 0.858"
   ]
  },
  {
   "cell_type": "markdown",
   "id": "343588c8-1298-47c9-bc29-99204e6c31a7",
   "metadata": {},
   "source": [
    "## Explainability"
   ]
  },
  {
   "cell_type": "code",
   "execution_count": 24,
   "id": "3d0936a3-d41c-4071-b46c-d7c73a403fc6",
   "metadata": {},
   "outputs": [],
   "source": [
    "# if 'importances' in preds.keys():\n",
    "#     importances = preds['importances']\n",
    "#     importances_df = pd.DataFrame(importances[:, :-1], columns = FEATURES)\n",
    "#     importances_fig, total_importances = plot_importances(\n",
    "#         importances_df, \n",
    "#         title=\"Importances for FT-Transformer\"\n",
    "#     )"
   ]
  },
  {
   "cell_type": "markdown",
   "id": "1af942de",
   "metadata": {},
   "source": [
    "## Quantile PLE Transformer"
   ]
  },
  {
   "cell_type": "code",
   "execution_count": 25,
   "id": "188d0245",
   "metadata": {},
   "outputs": [],
   "source": [
    "model = FTTransformer(\n",
    "    out_dim=1,\n",
    "    out_activation='sigmoid',\n",
    "    feature_unique_counts=feature_unique_counts,\n",
    "    numerical_features=NUMERIC_FEATURES,\n",
    "    categorical_features=CATEGORICAL_FEATURES,\n",
    "    seq_length=seq_length,\n",
    "    numerical_embedding_type='ple',\n",
    "    bins_dict=q_bins_dict,\n",
    "    explainable=EXPLANATIONS    \n",
    ")\n",
    "\n",
    "optimizer = keras.optimizers.AdamW(\n",
    "        learning_rate=LEARNING_RATE, weight_decay=WEIGHT_DECAY\n",
    "    )\n",
    "\n",
    "loss = keras.losses.BinaryCrossentropy()\n",
    "metrics = [keras.metrics.AUC(name=\"PR AUC\", curve='PR')]\n",
    "# Explanations need to be reworked once the bug is fixed\n",
    "# if EXPLANATIONS:\n",
    "#     loss_dict.update({\"importances\": None})\n",
    "#     metrics_dict.update({\"importances\": None})\n",
    "model.compile(\n",
    "    optimizer=optimizer,\n",
    "    loss=loss,\n",
    "    metrics=metrics,\n",
    ")\n",
    "\n",
    "early = keras.callbacks.EarlyStopping(monitor=\"val_loss\", mode=\"min\", patience=20, restore_best_weights=True)\n",
    "callback_list = [early]"
   ]
  },
  {
   "cell_type": "code",
   "execution_count": 26,
   "id": "7486899e",
   "metadata": {},
   "outputs": [
    {
     "name": "stdout",
     "output_type": "stream",
     "text": [
      "Epoch 1/10\n",
      "\u001b[1m25/27\u001b[0m \u001b[32m━━━━━━━━━━━━━━━━━━\u001b[0m\u001b[37m━━\u001b[0m \u001b[1m0s\u001b[0m 16ms/step - PR AUC: 0.4198 - loss: 0.4869"
     ]
    },
    {
     "name": "stderr",
     "output_type": "stream",
     "text": [
      "2024-03-31 11:09:29.414096: W tensorflow/core/framework/local_rendezvous.cc:404] Local rendezvous is aborting with status: OUT_OF_RANGE: End of sequence\n"
     ]
    },
    {
     "name": "stdout",
     "output_type": "stream",
     "text": [
      "\u001b[1m27/27\u001b[0m \u001b[32m━━━━━━━━━━━━━━━━━━━━\u001b[0m\u001b[37m\u001b[0m \u001b[1m0s\u001b[0m 203ms/step - PR AUC: 0.4277 - loss: 0.4827"
     ]
    },
    {
     "name": "stderr",
     "output_type": "stream",
     "text": [
      "2024-03-31 11:09:36.634361: W tensorflow/core/framework/local_rendezvous.cc:404] Local rendezvous is aborting with status: OUT_OF_RANGE: End of sequence\n"
     ]
    },
    {
     "name": "stdout",
     "output_type": "stream",
     "text": [
      "\u001b[1m27/27\u001b[0m \u001b[32m━━━━━━━━━━━━━━━━━━━━\u001b[0m\u001b[37m\u001b[0m \u001b[1m15s\u001b[0m 375ms/step - PR AUC: 0.4312 - loss: 0.4808 - val_PR AUC: 0.5906 - val_loss: 0.4149\n",
      "Epoch 2/10\n",
      "\u001b[1m27/27\u001b[0m \u001b[32m━━━━━━━━━━━━━━━━━━━━\u001b[0m\u001b[37m\u001b[0m \u001b[1m1s\u001b[0m 19ms/step - PR AUC: 0.6835 - loss: 0.3670 - val_PR AUC: 0.5745 - val_loss: 0.4124\n",
      "Epoch 3/10\n",
      "\u001b[1m 1/27\u001b[0m \u001b[37m━━━━━━━━━━━━━━━━━━━━\u001b[0m \u001b[1m0s\u001b[0m 28ms/step - PR AUC: 0.7429 - loss: 0.3441"
     ]
    },
    {
     "name": "stderr",
     "output_type": "stream",
     "text": [
      "2024-03-31 11:09:39.367588: W tensorflow/core/framework/local_rendezvous.cc:404] Local rendezvous is aborting with status: OUT_OF_RANGE: End of sequence\n",
      "2024-03-31 11:09:39.411660: W tensorflow/core/framework/local_rendezvous.cc:404] Local rendezvous is aborting with status: OUT_OF_RANGE: End of sequence\n"
     ]
    },
    {
     "name": "stdout",
     "output_type": "stream",
     "text": [
      "\u001b[1m27/27\u001b[0m \u001b[32m━━━━━━━━━━━━━━━━━━━━\u001b[0m\u001b[37m\u001b[0m \u001b[1m0s\u001b[0m 11ms/step - PR AUC: 0.7338 - loss: 0.3321 - val_PR AUC: 0.5825 - val_loss: 0.4203\n",
      "Epoch 4/10\n",
      "\u001b[1m 7/27\u001b[0m \u001b[32m━━━━━\u001b[0m\u001b[37m━━━━━━━━━━━━━━━\u001b[0m \u001b[1m0s\u001b[0m 9ms/step - PR AUC: 0.7550 - loss: 0.3377 "
     ]
    },
    {
     "name": "stderr",
     "output_type": "stream",
     "text": [
      "2024-03-31 11:09:39.774118: W tensorflow/core/framework/local_rendezvous.cc:404] Local rendezvous is aborting with status: OUT_OF_RANGE: End of sequence\n",
      "2024-03-31 11:09:39.816587: W tensorflow/core/framework/local_rendezvous.cc:404] Local rendezvous is aborting with status: OUT_OF_RANGE: End of sequence\n"
     ]
    },
    {
     "name": "stdout",
     "output_type": "stream",
     "text": [
      "\u001b[1m27/27\u001b[0m \u001b[32m━━━━━━━━━━━━━━━━━━━━\u001b[0m\u001b[37m\u001b[0m \u001b[1m0s\u001b[0m 11ms/step - PR AUC: 0.7477 - loss: 0.3317 - val_PR AUC: 0.5648 - val_loss: 0.4398\n",
      "Epoch 5/10\n",
      "\u001b[1m 7/27\u001b[0m \u001b[32m━━━━━\u001b[0m\u001b[37m━━━━━━━━━━━━━━━\u001b[0m \u001b[1m0s\u001b[0m 9ms/step - PR AUC: 0.7416 - loss: 0.3343 "
     ]
    },
    {
     "name": "stderr",
     "output_type": "stream",
     "text": [
      "2024-03-31 11:09:40.090322: W tensorflow/core/framework/local_rendezvous.cc:404] Local rendezvous is aborting with status: OUT_OF_RANGE: End of sequence\n",
      "2024-03-31 11:09:40.134931: W tensorflow/core/framework/local_rendezvous.cc:404] Local rendezvous is aborting with status: OUT_OF_RANGE: End of sequence\n"
     ]
    },
    {
     "name": "stdout",
     "output_type": "stream",
     "text": [
      "\u001b[1m27/27\u001b[0m \u001b[32m━━━━━━━━━━━━━━━━━━━━\u001b[0m\u001b[37m\u001b[0m \u001b[1m0s\u001b[0m 11ms/step - PR AUC: 0.7443 - loss: 0.3302 - val_PR AUC: 0.5550 - val_loss: 0.4481\n",
      "Epoch 6/10\n",
      "\u001b[1m 7/27\u001b[0m \u001b[32m━━━━━\u001b[0m\u001b[37m━━━━━━━━━━━━━━━\u001b[0m \u001b[1m0s\u001b[0m 9ms/step - PR AUC: 0.7874 - loss: 0.3344 "
     ]
    },
    {
     "name": "stderr",
     "output_type": "stream",
     "text": [
      "2024-03-31 11:09:40.407582: W tensorflow/core/framework/local_rendezvous.cc:404] Local rendezvous is aborting with status: OUT_OF_RANGE: End of sequence\n",
      "2024-03-31 11:09:40.451468: W tensorflow/core/framework/local_rendezvous.cc:404] Local rendezvous is aborting with status: OUT_OF_RANGE: End of sequence\n"
     ]
    },
    {
     "name": "stdout",
     "output_type": "stream",
     "text": [
      "\u001b[1m27/27\u001b[0m \u001b[32m━━━━━━━━━━━━━━━━━━━━\u001b[0m\u001b[37m\u001b[0m \u001b[1m0s\u001b[0m 11ms/step - PR AUC: 0.7739 - loss: 0.3235 - val_PR AUC: 0.5834 - val_loss: 0.4197\n",
      "Epoch 7/10\n",
      "\u001b[1m 7/27\u001b[0m \u001b[32m━━━━━\u001b[0m\u001b[37m━━━━━━━━━━━━━━━\u001b[0m \u001b[1m0s\u001b[0m 9ms/step - PR AUC: 0.7647 - loss: 0.3169 "
     ]
    },
    {
     "name": "stderr",
     "output_type": "stream",
     "text": [
      "2024-03-31 11:09:40.722425: W tensorflow/core/framework/local_rendezvous.cc:404] Local rendezvous is aborting with status: OUT_OF_RANGE: End of sequence\n",
      "2024-03-31 11:09:40.765028: W tensorflow/core/framework/local_rendezvous.cc:404] Local rendezvous is aborting with status: OUT_OF_RANGE: End of sequence\n"
     ]
    },
    {
     "name": "stdout",
     "output_type": "stream",
     "text": [
      "\u001b[1m27/27\u001b[0m \u001b[32m━━━━━━━━━━━━━━━━━━━━\u001b[0m\u001b[37m\u001b[0m \u001b[1m0s\u001b[0m 11ms/step - PR AUC: 0.7811 - loss: 0.3091 - val_PR AUC: 0.5936 - val_loss: 0.4235\n",
      "Epoch 8/10\n",
      "\u001b[1m 7/27\u001b[0m \u001b[32m━━━━━\u001b[0m\u001b[37m━━━━━━━━━━━━━━━\u001b[0m \u001b[1m0s\u001b[0m 9ms/step - PR AUC: 0.7976 - loss: 0.3046 "
     ]
    },
    {
     "name": "stderr",
     "output_type": "stream",
     "text": [
      "2024-03-31 11:09:41.039355: W tensorflow/core/framework/local_rendezvous.cc:404] Local rendezvous is aborting with status: OUT_OF_RANGE: End of sequence\n",
      "2024-03-31 11:09:41.090241: W tensorflow/core/framework/local_rendezvous.cc:404] Local rendezvous is aborting with status: OUT_OF_RANGE: End of sequence\n"
     ]
    },
    {
     "name": "stdout",
     "output_type": "stream",
     "text": [
      "\u001b[1m27/27\u001b[0m \u001b[32m━━━━━━━━━━━━━━━━━━━━\u001b[0m\u001b[37m\u001b[0m \u001b[1m0s\u001b[0m 10ms/step - PR AUC: 0.7951 - loss: 0.3029 - val_PR AUC: 0.5931 - val_loss: 0.4281\n",
      "Epoch 9/10\n",
      "\u001b[1m 7/27\u001b[0m \u001b[32m━━━━━\u001b[0m\u001b[37m━━━━━━━━━━━━━━━\u001b[0m \u001b[1m0s\u001b[0m 9ms/step - PR AUC: 0.8020 - loss: 0.2859 "
     ]
    },
    {
     "name": "stderr",
     "output_type": "stream",
     "text": [
      "2024-03-31 11:09:41.354634: W tensorflow/core/framework/local_rendezvous.cc:404] Local rendezvous is aborting with status: OUT_OF_RANGE: End of sequence\n",
      "2024-03-31 11:09:41.399844: W tensorflow/core/framework/local_rendezvous.cc:404] Local rendezvous is aborting with status: OUT_OF_RANGE: End of sequence\n"
     ]
    },
    {
     "name": "stdout",
     "output_type": "stream",
     "text": [
      "\u001b[1m27/27\u001b[0m \u001b[32m━━━━━━━━━━━━━━━━━━━━\u001b[0m\u001b[37m\u001b[0m \u001b[1m0s\u001b[0m 11ms/step - PR AUC: 0.7959 - loss: 0.2951 - val_PR AUC: 0.5968 - val_loss: 0.4320\n",
      "Epoch 10/10\n",
      "\u001b[1m 7/27\u001b[0m \u001b[32m━━━━━\u001b[0m\u001b[37m━━━━━━━━━━━━━━━\u001b[0m \u001b[1m0s\u001b[0m 9ms/step - PR AUC: 0.7964 - loss: 0.3093 "
     ]
    },
    {
     "name": "stderr",
     "output_type": "stream",
     "text": [
      "2024-03-31 11:09:41.671117: W tensorflow/core/framework/local_rendezvous.cc:404] Local rendezvous is aborting with status: OUT_OF_RANGE: End of sequence\n",
      "2024-03-31 11:09:41.716092: W tensorflow/core/framework/local_rendezvous.cc:404] Local rendezvous is aborting with status: OUT_OF_RANGE: End of sequence\n"
     ]
    },
    {
     "name": "stdout",
     "output_type": "stream",
     "text": [
      "\u001b[1m27/27\u001b[0m \u001b[32m━━━━━━━━━━━━━━━━━━━━\u001b[0m\u001b[37m\u001b[0m \u001b[1m0s\u001b[0m 10ms/step - PR AUC: 0.7964 - loss: 0.3037 - val_PR AUC: 0.5992 - val_loss: 0.4504\n"
     ]
    },
    {
     "name": "stderr",
     "output_type": "stream",
     "text": [
      "2024-03-31 11:09:41.979327: W tensorflow/core/framework/local_rendezvous.cc:404] Local rendezvous is aborting with status: OUT_OF_RANGE: End of sequence\n",
      "2024-03-31 11:09:42.022159: W tensorflow/core/framework/local_rendezvous.cc:404] Local rendezvous is aborting with status: OUT_OF_RANGE: End of sequence\n"
     ]
    }
   ],
   "source": [
    "hist = model.fit(\n",
    "    train_dataset, \n",
    "    epochs=NUM_EPOCHS, \n",
    "    validation_data=val_dataset,\n",
    "    callbacks=callback_list\n",
    ")"
   ]
  },
  {
   "cell_type": "code",
   "execution_count": 27,
   "id": "2af1322a",
   "metadata": {},
   "outputs": [
    {
     "data": {
      "image/png": "[encoded data removed]",
      "text/plain": [
       "<Figure size 2000x1000 with 2 Axes>"
      ]
     },
     "metadata": {},
     "output_type": "display_data"
    }
   ],
   "source": [
    "hist_plot = plot_training_hist(hist.history, EXPLANATIONS)"
   ]
  },
  {
   "cell_type": "code",
   "execution_count": 28,
   "id": "4129d621",
   "metadata": {},
   "outputs": [
    {
     "name": "stdout",
     "output_type": "stream",
     "text": [
      "\u001b[1m 1/17\u001b[0m \u001b[32m━\u001b[0m\u001b[37m━━━━━━━━━━━━━━━━━━━\u001b[0m \u001b[1m27s\u001b[0m 2s/step"
     ]
    },
    {
     "name": "stderr",
     "output_type": "stream",
     "text": [
      "2024-03-31 11:09:44.238315: W tensorflow/core/framework/local_rendezvous.cc:404] Local rendezvous is aborting with status: OUT_OF_RANGE: End of sequence\n"
     ]
    },
    {
     "name": "stdout",
     "output_type": "stream",
     "text": [
      "\u001b[1m17/17\u001b[0m \u001b[32m━━━━━━━━━━━━━━━━━━━━\u001b[0m\u001b[37m\u001b[0m \u001b[1m3s\u001b[0m 110ms/step\n",
      "Test ROC AUC: 0.8465\n",
      "Test PR AUC: 0.5641\n",
      "Test Accuracy: 0.7138\n"
     ]
    }
   ],
   "source": [
    "preds = model.predict(test_dataset)\n",
    "flat_preds = preds.ravel()\n",
    "print(\"Test ROC AUC:\", np.round(roc_auc_score(test_data[LABEL], flat_preds), 4))\n",
    "print(\"Test PR AUC:\", np.round(average_precision_score(test_data[LABEL], flat_preds), 4))\n",
    "print(\"Test Accuracy:\", np.round(accuracy_score(test_data[LABEL], flat_preds > 0.5), 4))\n",
    "\n",
    "# Reported accuracy - 0.858"
   ]
  },
  {
   "cell_type": "markdown",
   "id": "4d075318",
   "metadata": {},
   "source": [
    "## Explainability"
   ]
  },
  {
   "cell_type": "code",
   "execution_count": 29,
   "id": "72726d08",
   "metadata": {},
   "outputs": [],
   "source": [
    "# if 'importances' in preds.keys():\n",
    "#     importances = preds['importances']\n",
    "#     importances_df = pd.DataFrame(importances[:, :-1], columns = FEATURES)\n",
    "#     importances_fig, total_importances = plot_importances(\n",
    "#         importances_df, \n",
    "#         title=\"Importances for FT-Transformer\"\n",
    "#     )"
   ]
  },
  {
   "cell_type": "code",
   "execution_count": null,
   "id": "dcfe24b3",
   "metadata": {},
   "outputs": [],
   "source": []
  }
 ],
 "metadata": {
  "kernelspec": {
   "display_name": "venv",
   "language": "python",
   "name": "python3"
  },
  "language_info": {
   "codemirror_mode": {
    "name": "ipython",
    "version": 3
   },
   "file_extension": ".py",
   "mimetype": "text/x-python",
   "name": "python",
   "nbconvert_exporter": "python",
   "pygments_lexer": "ipython3",
   "version": "3.10.12"
  }
 },
 "nbformat": 4,
 "nbformat_minor": 5
}
