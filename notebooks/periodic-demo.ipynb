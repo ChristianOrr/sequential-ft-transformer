{
 "cells": [
  {
   "cell_type": "code",
   "execution_count": 1,
   "id": "67febe95-dd8e-4564-8a5e-e641bb16906e",
   "metadata": {},
   "outputs": [
    {
     "name": "stderr",
     "output_type": "stream",
     "text": [
      "2024-04-07 21:39:47.195005: W tensorflow/compiler/tf2tensorrt/utils/py_utils.cc:38] TF-TRT Warning: Could not find TensorRT\n"
     ]
    }
   ],
   "source": [
    "import os\n",
    "os.environ[\"KERAS_BACKEND\"] = \"jax\"\n",
    "import keras\n",
    "import pandas as pd\n",
    "import numpy as np\n",
    "import pandas as pd\n",
    "import matplotlib.pyplot as plt\n",
    "from sklearn.model_selection import train_test_split\n",
    "from sklearn.metrics import roc_auc_score, average_precision_score, accuracy_score\n",
    "\n",
    "from sequential_ft_transformer.fttransformer import FTTransformer\n",
    "from sequential_ft_transformer.preprocessing import sq_df_to_dataset, download_data\n",
    "from sequential_ft_transformer.plotting import plot_importances, plot_training_hist\n"
   ]
  },
  {
   "cell_type": "markdown",
   "id": "3f89b597-3f3a-4079-bc7c-ad3fbf16dba8",
   "metadata": {},
   "source": [
    "## Download Data"
   ]
  },
  {
   "cell_type": "code",
   "execution_count": 2,
   "id": "3c1437d9",
   "metadata": {},
   "outputs": [],
   "source": [
    "data_folder = \"../data/\"\n",
    "seq_length = 1"
   ]
  },
  {
   "cell_type": "code",
   "execution_count": 3,
   "id": "fb22b679",
   "metadata": {},
   "outputs": [
    {
     "name": "stdout",
     "output_type": "stream",
     "text": [
      "adult_train.csv already exists in ../data/\n",
      "adult_test.csv already exists in ../data/\n",
      "Train dataset shape: (32561, 15)\n",
      "Test dataset shape: (16282, 15)\n"
     ]
    }
   ],
   "source": [
    "CSV_HEADER = [\n",
    "    \"age\",\n",
    "    \"workclass\",\n",
    "    \"fnlwgt\",\n",
    "    \"education\",\n",
    "    \"education_num\",\n",
    "    \"marital_status\",\n",
    "    \"occupation\",\n",
    "    \"relationship\",\n",
    "    \"race\",\n",
    "    \"gender\",\n",
    "    \"capital_gain\",\n",
    "    \"capital_loss\",\n",
    "    \"hours_per_week\",\n",
    "    \"native_country\",\n",
    "    \"income_bracket\",\n",
    "]\n",
    "\n",
    "train_data_url = \"https://archive.ics.uci.edu/ml/machine-learning-databases/adult/adult.data\"\n",
    "test_data_url = \"https://archive.ics.uci.edu/ml/machine-learning-databases/adult/adult.test\"\n",
    "\n",
    "download_data(train_data_url, data_folder, \"adult_train.csv\")\n",
    "download_data(test_data_url, data_folder, \"adult_test.csv\")\n",
    "\n",
    "train_data = pd.read_csv(os.path.join(data_folder, \"adult_train.csv\"), header=None, names=CSV_HEADER)\n",
    "test_data = pd.read_csv(os.path.join(data_folder, \"adult_test.csv\"), header=None, names=CSV_HEADER)\n",
    "\n",
    "print(f\"Train dataset shape: {train_data.shape}\")\n",
    "print(f\"Test dataset shape: {test_data.shape}\")"
   ]
  },
  {
   "cell_type": "code",
   "execution_count": 4,
   "id": "75521624-3f40-4aad-bbd4-cea5c5cb5782",
   "metadata": {},
   "outputs": [
    {
     "data": {
      "text/html": [
       "<div>\n",
       "<style scoped>\n",
       "    .dataframe tbody tr th:only-of-type {\n",
       "        vertical-align: middle;\n",
       "    }\n",
       "\n",
       "    .dataframe tbody tr th {\n",
       "        vertical-align: top;\n",
       "    }\n",
       "\n",
       "    .dataframe thead th {\n",
       "        text-align: right;\n",
       "    }\n",
       "</style>\n",
       "<table border=\"1\" class=\"dataframe\">\n",
       "  <thead>\n",
       "    <tr style=\"text-align: right;\">\n",
       "      <th></th>\n",
       "      <th>age</th>\n",
       "      <th>workclass</th>\n",
       "      <th>fnlwgt</th>\n",
       "      <th>education</th>\n",
       "      <th>education_num</th>\n",
       "      <th>marital_status</th>\n",
       "      <th>occupation</th>\n",
       "      <th>relationship</th>\n",
       "      <th>race</th>\n",
       "      <th>gender</th>\n",
       "      <th>capital_gain</th>\n",
       "      <th>capital_loss</th>\n",
       "      <th>hours_per_week</th>\n",
       "      <th>native_country</th>\n",
       "      <th>income_bracket</th>\n",
       "    </tr>\n",
       "  </thead>\n",
       "  <tbody>\n",
       "    <tr>\n",
       "      <th>0</th>\n",
       "      <td>39</td>\n",
       "      <td>State-gov</td>\n",
       "      <td>77516</td>\n",
       "      <td>Bachelors</td>\n",
       "      <td>13</td>\n",
       "      <td>Never-married</td>\n",
       "      <td>Adm-clerical</td>\n",
       "      <td>Not-in-family</td>\n",
       "      <td>White</td>\n",
       "      <td>Male</td>\n",
       "      <td>2174</td>\n",
       "      <td>0</td>\n",
       "      <td>40</td>\n",
       "      <td>United-States</td>\n",
       "      <td>&lt;=50K</td>\n",
       "    </tr>\n",
       "    <tr>\n",
       "      <th>1</th>\n",
       "      <td>50</td>\n",
       "      <td>Self-emp-not-inc</td>\n",
       "      <td>83311</td>\n",
       "      <td>Bachelors</td>\n",
       "      <td>13</td>\n",
       "      <td>Married-civ-spouse</td>\n",
       "      <td>Exec-managerial</td>\n",
       "      <td>Husband</td>\n",
       "      <td>White</td>\n",
       "      <td>Male</td>\n",
       "      <td>0</td>\n",
       "      <td>0</td>\n",
       "      <td>13</td>\n",
       "      <td>United-States</td>\n",
       "      <td>&lt;=50K</td>\n",
       "    </tr>\n",
       "    <tr>\n",
       "      <th>2</th>\n",
       "      <td>38</td>\n",
       "      <td>Private</td>\n",
       "      <td>215646</td>\n",
       "      <td>HS-grad</td>\n",
       "      <td>9</td>\n",
       "      <td>Divorced</td>\n",
       "      <td>Handlers-cleaners</td>\n",
       "      <td>Not-in-family</td>\n",
       "      <td>White</td>\n",
       "      <td>Male</td>\n",
       "      <td>0</td>\n",
       "      <td>0</td>\n",
       "      <td>40</td>\n",
       "      <td>United-States</td>\n",
       "      <td>&lt;=50K</td>\n",
       "    </tr>\n",
       "    <tr>\n",
       "      <th>3</th>\n",
       "      <td>53</td>\n",
       "      <td>Private</td>\n",
       "      <td>234721</td>\n",
       "      <td>11th</td>\n",
       "      <td>7</td>\n",
       "      <td>Married-civ-spouse</td>\n",
       "      <td>Handlers-cleaners</td>\n",
       "      <td>Husband</td>\n",
       "      <td>Black</td>\n",
       "      <td>Male</td>\n",
       "      <td>0</td>\n",
       "      <td>0</td>\n",
       "      <td>40</td>\n",
       "      <td>United-States</td>\n",
       "      <td>&lt;=50K</td>\n",
       "    </tr>\n",
       "    <tr>\n",
       "      <th>4</th>\n",
       "      <td>28</td>\n",
       "      <td>Private</td>\n",
       "      <td>338409</td>\n",
       "      <td>Bachelors</td>\n",
       "      <td>13</td>\n",
       "      <td>Married-civ-spouse</td>\n",
       "      <td>Prof-specialty</td>\n",
       "      <td>Wife</td>\n",
       "      <td>Black</td>\n",
       "      <td>Female</td>\n",
       "      <td>0</td>\n",
       "      <td>0</td>\n",
       "      <td>40</td>\n",
       "      <td>Cuba</td>\n",
       "      <td>&lt;=50K</td>\n",
       "    </tr>\n",
       "  </tbody>\n",
       "</table>\n",
       "</div>"
      ],
      "text/plain": [
       "   age          workclass  fnlwgt   education  education_num  \\\n",
       "0   39          State-gov   77516   Bachelors             13   \n",
       "1   50   Self-emp-not-inc   83311   Bachelors             13   \n",
       "2   38            Private  215646     HS-grad              9   \n",
       "3   53            Private  234721        11th              7   \n",
       "4   28            Private  338409   Bachelors             13   \n",
       "\n",
       "        marital_status          occupation    relationship    race   gender  \\\n",
       "0        Never-married        Adm-clerical   Not-in-family   White     Male   \n",
       "1   Married-civ-spouse     Exec-managerial         Husband   White     Male   \n",
       "2             Divorced   Handlers-cleaners   Not-in-family   White     Male   \n",
       "3   Married-civ-spouse   Handlers-cleaners         Husband   Black     Male   \n",
       "4   Married-civ-spouse      Prof-specialty            Wife   Black   Female   \n",
       "\n",
       "   capital_gain  capital_loss  hours_per_week  native_country income_bracket  \n",
       "0          2174             0              40   United-States          <=50K  \n",
       "1             0             0              13   United-States          <=50K  \n",
       "2             0             0              40   United-States          <=50K  \n",
       "3             0             0              40   United-States          <=50K  \n",
       "4             0             0              40            Cuba          <=50K  "
      ]
     },
     "execution_count": 4,
     "metadata": {},
     "output_type": "execute_result"
    }
   ],
   "source": [
    "train_data.head()"
   ]
  },
  {
   "cell_type": "markdown",
   "id": "89bff333-3750-46c9-b687-3f06a8f43845",
   "metadata": {},
   "source": [
    "## Preprocess"
   ]
  },
  {
   "cell_type": "code",
   "execution_count": 5,
   "id": "420201d9-eb7d-4873-bae8-2296fef046c4",
   "metadata": {},
   "outputs": [],
   "source": [
    "# Column information\n",
    "NUMERIC_FEATURES = ['age', 'education_num', 'capital_gain', 'capital_loss', 'hours_per_week']\n",
    "NUMERIC_FEATURES = sorted(NUMERIC_FEATURES)\n",
    "CATEGORICAL_FEATURES = ['workclass', 'education', 'marital_status', 'occupation', 'relationship', 'race', 'gender', 'native_country']\n",
    "CATEGORICAL_FEATURES = sorted(CATEGORICAL_FEATURES)\n",
    "\n",
    "FEATURES = sorted(list(NUMERIC_FEATURES) + list(CATEGORICAL_FEATURES))\n",
    "LABEL = 'income_bracket'"
   ]
  },
  {
   "cell_type": "code",
   "execution_count": 6,
   "id": "aaa2d685-44be-410a-89cf-acdd4a069adb",
   "metadata": {},
   "outputs": [],
   "source": [
    "# encoding as binary target\n",
    "train_data[LABEL] = train_data[LABEL].apply(lambda x: int(x == ' >50K')) \n",
    "test_data[LABEL] = test_data[LABEL].apply(lambda x: int(x == ' >50K.'))"
   ]
  },
  {
   "cell_type": "code",
   "execution_count": 7,
   "id": "3d862d5d",
   "metadata": {},
   "outputs": [],
   "source": [
    "train_data = train_data.dropna()\n",
    "test_data = test_data.dropna()"
   ]
  },
  {
   "cell_type": "code",
   "execution_count": 8,
   "id": "ecc0f932",
   "metadata": {},
   "outputs": [],
   "source": [
    "train_input = train_data[FEATURES]\n",
    "train_labels = train_data[LABEL]\n",
    "\n",
    "test_input = test_data[FEATURES]\n",
    "test_labels = test_data[LABEL]"
   ]
  },
  {
   "cell_type": "markdown",
   "id": "a3257304",
   "metadata": {},
   "source": [
    "## Get Lookup Tables for Each Categorical Column"
   ]
  },
  {
   "cell_type": "code",
   "execution_count": 9,
   "id": "e93bce4e",
   "metadata": {},
   "outputs": [
    {
     "name": "stderr",
     "output_type": "stream",
     "text": [
      "2024-04-07 21:39:47.517428: W tensorflow/core/common_runtime/gpu/gpu_device.cc:2251] Cannot dlopen some GPU libraries. Please make sure the missing libraries mentioned above are installed properly if you would like to use GPU. Follow the guide at https://www.tensorflow.org/install/gpu for how to download and setup the required libraries for your platform.\n",
      "Skipping registering GPU devices...\n"
     ]
    }
   ],
   "source": [
    "cat_lookups = dict()\n",
    "feature_unique_counts = dict()\n",
    "num_oov_indices = 1\n",
    "for cat in CATEGORICAL_FEATURES:\n",
    "    unique_values = list(np.unique(train_input[cat]).astype(str))\n",
    "    feature_unique_counts[cat] = len(unique_values) + num_oov_indices\n",
    "    lookup = keras.layers.StringLookup(vocabulary=unique_values, num_oov_indices=num_oov_indices)\n",
    "    cat_lookups[cat] = lookup"
   ]
  },
  {
   "cell_type": "markdown",
   "id": "410368ff",
   "metadata": {},
   "source": [
    "## Convert Each Categorical String to an ID"
   ]
  },
  {
   "cell_type": "code",
   "execution_count": 10,
   "id": "c43ae782",
   "metadata": {},
   "outputs": [
    {
     "name": "stderr",
     "output_type": "stream",
     "text": [
      "/tmp/ipykernel_347958/1451819549.py:2: SettingWithCopyWarning: \n",
      "A value is trying to be set on a copy of a slice from a DataFrame.\n",
      "Try using .loc[row_indexer,col_indexer] = value instead\n",
      "\n",
      "See the caveats in the documentation: https://pandas.pydata.org/pandas-docs/stable/user_guide/indexing.html#returning-a-view-versus-a-copy\n",
      "  train_input[cat] = cat_lookups[cat](train_input[cat])\n",
      "/tmp/ipykernel_347958/1451819549.py:3: SettingWithCopyWarning: \n",
      "A value is trying to be set on a copy of a slice from a DataFrame.\n",
      "Try using .loc[row_indexer,col_indexer] = value instead\n",
      "\n",
      "See the caveats in the documentation: https://pandas.pydata.org/pandas-docs/stable/user_guide/indexing.html#returning-a-view-versus-a-copy\n",
      "  test_input[cat] = cat_lookups[cat](test_input[cat])\n"
     ]
    }
   ],
   "source": [
    "for cat in CATEGORICAL_FEATURES:\n",
    "    train_input[cat] = cat_lookups[cat](train_input[cat])\n",
    "    test_input[cat] = cat_lookups[cat](test_input[cat])"
   ]
  },
  {
   "cell_type": "code",
   "execution_count": 11,
   "id": "25986888-5dc1-497c-96c7-bc5e5411c105",
   "metadata": {},
   "outputs": [],
   "source": [
    "train_input.loc[:, CATEGORICAL_FEATURES] = train_input[CATEGORICAL_FEATURES].astype(int)\n",
    "test_input.loc[:, CATEGORICAL_FEATURES] = test_input[CATEGORICAL_FEATURES].astype(int)\n",
    "\n",
    "train_input.loc[:, NUMERIC_FEATURES] = train_input[NUMERIC_FEATURES].astype(float)\n",
    "test_input.loc[:, NUMERIC_FEATURES] = test_input[NUMERIC_FEATURES].astype(float)"
   ]
  },
  {
   "cell_type": "code",
   "execution_count": 12,
   "id": "14f1b7d3",
   "metadata": {},
   "outputs": [],
   "source": [
    "train_labels = train_labels.to_frame(name=LABEL)\n",
    "test_labels = test_labels.to_frame(name=LABEL)"
   ]
  },
  {
   "cell_type": "code",
   "execution_count": 13,
   "id": "0976bb57",
   "metadata": {},
   "outputs": [],
   "source": [
    "x_train, x_val, y_train, y_val = train_test_split(train_input, train_labels, test_size=0.2)"
   ]
  },
  {
   "cell_type": "markdown",
   "id": "a07ad92f-f1b9-46ad-9b61-831cbc903e22",
   "metadata": {},
   "source": [
    "## Create TF Datasets"
   ]
  },
  {
   "cell_type": "code",
   "execution_count": 14,
   "id": "b133bc1d",
   "metadata": {},
   "outputs": [],
   "source": [
    "batch_size = 1000\n",
    "train_dataset = sq_df_to_dataset(\n",
    "    x_train, \n",
    "    seq_length, \n",
    "    target_df=y_train, \n",
    "    target=LABEL, \n",
    "    categorical_features=CATEGORICAL_FEATURES, \n",
    "    numerical_features=NUMERIC_FEATURES, \n",
    "    batch_size=batch_size\n",
    ")\n",
    "val_dataset = sq_df_to_dataset(\n",
    "    x_val, \n",
    "    seq_length, \n",
    "    target_df=y_val, \n",
    "    target=LABEL, \n",
    "    categorical_features=CATEGORICAL_FEATURES, \n",
    "    numerical_features=NUMERIC_FEATURES, \n",
    "    shuffle=False, # No shuffle\n",
    "    batch_size=batch_size\n",
    ")  \n",
    "test_dataset = sq_df_to_dataset(\n",
    "    test_input, \n",
    "    seq_length, \n",
    "    categorical_features=CATEGORICAL_FEATURES, \n",
    "    numerical_features=NUMERIC_FEATURES, \n",
    "    shuffle=False, \n",
    "    batch_size=batch_size) # No target, no shuffle"
   ]
  },
  {
   "cell_type": "markdown",
   "id": "9342c4cd-d309-420f-b966-c6377030d6d4",
   "metadata": {},
   "source": [
    "## Periodic Numerical Embedding FT-Transformer"
   ]
  },
  {
   "cell_type": "code",
   "execution_count": 15,
   "id": "bc64f61e",
   "metadata": {},
   "outputs": [],
   "source": [
    "# Explanations need to be set to false until the following bug is fixed: https://github.com/keras-team/keras/issues/19303\n",
    "EXPLANATIONS = False \n",
    "LEARNING_RATE = 0.001\n",
    "WEIGHT_DECAY = 0.0001\n",
    "NUM_EPOCHS = 10\n",
    "N_BINS = 10"
   ]
  },
  {
   "cell_type": "code",
   "execution_count": 16,
   "id": "e29156d1-7d28-439b-9e00-2a98e38f1fb1",
   "metadata": {
    "collapsed": true,
    "jupyter": {
     "outputs_hidden": true
    },
    "tags": []
   },
   "outputs": [
    {
     "name": "stderr",
     "output_type": "stream",
     "text": [
      "/home/ubuntu22/repos/sequential-ft-transformer/venv/lib/python3.10/site-packages/keras/src/models/functional.py:107: UserWarning: When providing `inputs` as a dict, all keys in the dict must match the names of the corresponding tensors. Received key 'cat_inputs' mapping to value <KerasTensor shape=(None, 1, 8), dtype=float32, sparse=None, name=keras_tensor> which has name 'keras_tensor'. Change the tensor name to 'cat_inputs' (via `Input(..., name='cat_inputs')`)\n",
      "  warnings.warn(\n",
      "/home/ubuntu22/repos/sequential-ft-transformer/venv/lib/python3.10/site-packages/keras/src/models/functional.py:107: UserWarning: When providing `inputs` as a dict, all keys in the dict must match the names of the corresponding tensors. Received key 'numeric_inputs' mapping to value <KerasTensor shape=(None, 1, 5), dtype=float32, sparse=None, name=keras_tensor_1> which has name 'keras_tensor_1'. Change the tensor name to 'numeric_inputs' (via `Input(..., name='numeric_inputs')`)\n",
      "  warnings.warn(\n"
     ]
    }
   ],
   "source": [
    "model = FTTransformer(\n",
    "    out_dim=1,\n",
    "    out_activation='sigmoid',\n",
    "    feature_unique_counts=feature_unique_counts,\n",
    "    numerical_features=NUMERIC_FEATURES,\n",
    "    categorical_features=CATEGORICAL_FEATURES,\n",
    "    seq_length=seq_length,\n",
    "    numerical_embedding_type='periodic',\n",
    "    n_bins=N_BINS,\n",
    "    explainable=EXPLANATIONS    \n",
    ")\n",
    "\n",
    "optimizer = keras.optimizers.AdamW(\n",
    "        learning_rate=LEARNING_RATE, weight_decay=WEIGHT_DECAY\n",
    "    )\n",
    "\n",
    "loss = keras.losses.BinaryCrossentropy()\n",
    "metrics = [keras.metrics.AUC(name=\"PR AUC\", curve='PR')]\n",
    "# Explanations need to be reworked once the bug is fixed\n",
    "# if EXPLANATIONS:\n",
    "#     loss_dict.update({\"importances\": None})\n",
    "#     metrics_dict.update({\"importances\": None})\n",
    "model.compile(\n",
    "    optimizer=optimizer,\n",
    "    loss=loss,\n",
    "    metrics=metrics,\n",
    ")\n",
    "\n",
    "early = keras.callbacks.EarlyStopping(monitor=\"val_loss\", mode=\"min\", patience=20, restore_best_weights=True)\n",
    "callback_list = [early]"
   ]
  },
  {
   "cell_type": "code",
   "execution_count": 17,
   "id": "381e7dc1",
   "metadata": {},
   "outputs": [
    {
     "name": "stdout",
     "output_type": "stream",
     "text": [
      "Epoch 1/10\n",
      "\u001b[1m26/27\u001b[0m \u001b[32m━━━━━━━━━━━━━━━━━━━\u001b[0m\u001b[37m━\u001b[0m \u001b[1m0s\u001b[0m 11ms/step - PR AUC: 0.4694 - loss: 0.4720"
     ]
    },
    {
     "name": "stderr",
     "output_type": "stream",
     "text": [
      "2024-04-07 21:40:21.329899: W tensorflow/core/framework/local_rendezvous.cc:404] Local rendezvous is aborting with status: OUT_OF_RANGE: End of sequence\n"
     ]
    },
    {
     "name": "stdout",
     "output_type": "stream",
     "text": [
      "\u001b[1m27/27\u001b[0m \u001b[32m━━━━━━━━━━━━━━━━━━━━\u001b[0m\u001b[37m\u001b[0m \u001b[1m0s\u001b[0m 278ms/step - PR AUC: 0.4738 - loss: 0.4698"
     ]
    },
    {
     "name": "stderr",
     "output_type": "stream",
     "text": [
      "2024-04-07 21:40:30.338355: W tensorflow/core/framework/local_rendezvous.cc:404] Local rendezvous is aborting with status: OUT_OF_RANGE: End of sequence\n"
     ]
    },
    {
     "name": "stdout",
     "output_type": "stream",
     "text": [
      "\u001b[1m27/27\u001b[0m \u001b[32m━━━━━━━━━━━━━━━━━━━━\u001b[0m\u001b[37m\u001b[0m \u001b[1m22s\u001b[0m 479ms/step - PR AUC: 0.4779 - loss: 0.4677 - val_PR AUC: 0.6980 - val_loss: 0.3637\n",
      "Epoch 2/10\n",
      "\u001b[1m27/27\u001b[0m \u001b[32m━━━━━━━━━━━━━━━━━━━━\u001b[0m\u001b[37m\u001b[0m \u001b[1m1s\u001b[0m 30ms/step - PR AUC: 0.7083 - loss: 0.3509 - val_PR AUC: 0.7321 - val_loss: 0.3511\n",
      "Epoch 3/10\n"
     ]
    },
    {
     "name": "stderr",
     "output_type": "stream",
     "text": [
      "2024-04-07 21:40:34.249471: W tensorflow/core/framework/local_rendezvous.cc:404] Local rendezvous is aborting with status: OUT_OF_RANGE: End of sequence\n",
      "2024-04-07 21:40:34.295255: W tensorflow/core/framework/local_rendezvous.cc:404] Local rendezvous is aborting with status: OUT_OF_RANGE: End of sequence\n"
     ]
    },
    {
     "name": "stdout",
     "output_type": "stream",
     "text": [
      "\u001b[1m27/27\u001b[0m \u001b[32m━━━━━━━━━━━━━━━━━━━━\u001b[0m\u001b[37m\u001b[0m \u001b[1m0s\u001b[0m 14ms/step - PR AUC: 0.7249 - loss: 0.3434 - val_PR AUC: 0.7298 - val_loss: 0.3401\n",
      "Epoch 4/10\n",
      "\u001b[1m 1/27\u001b[0m \u001b[37m━━━━━━━━━━━━━━━━━━━━\u001b[0m \u001b[1m0s\u001b[0m 34ms/step - PR AUC: 0.7515 - loss: 0.3109"
     ]
    },
    {
     "name": "stderr",
     "output_type": "stream",
     "text": [
      "2024-04-07 21:40:34.668767: W tensorflow/core/framework/local_rendezvous.cc:404] Local rendezvous is aborting with status: OUT_OF_RANGE: End of sequence\n",
      "2024-04-07 21:40:34.713203: W tensorflow/core/framework/local_rendezvous.cc:404] Local rendezvous is aborting with status: OUT_OF_RANGE: End of sequence\n"
     ]
    },
    {
     "name": "stdout",
     "output_type": "stream",
     "text": [
      "\u001b[1m27/27\u001b[0m \u001b[32m━━━━━━━━━━━━━━━━━━━━\u001b[0m\u001b[37m\u001b[0m \u001b[1m0s\u001b[0m 11ms/step - PR AUC: 0.7259 - loss: 0.3355 - val_PR AUC: 0.7340 - val_loss: 0.3430\n",
      "Epoch 5/10\n",
      "\u001b[1m 7/27\u001b[0m \u001b[32m━━━━━\u001b[0m\u001b[37m━━━━━━━━━━━━━━━\u001b[0m \u001b[1m0s\u001b[0m 9ms/step - PR AUC: 0.7281 - loss: 0.3420 "
     ]
    },
    {
     "name": "stderr",
     "output_type": "stream",
     "text": [
      "2024-04-07 21:40:35.082530: W tensorflow/core/framework/local_rendezvous.cc:404] Local rendezvous is aborting with status: OUT_OF_RANGE: End of sequence\n",
      "2024-04-07 21:40:35.126479: W tensorflow/core/framework/local_rendezvous.cc:404] Local rendezvous is aborting with status: OUT_OF_RANGE: End of sequence\n"
     ]
    },
    {
     "name": "stdout",
     "output_type": "stream",
     "text": [
      "\u001b[1m27/27\u001b[0m \u001b[32m━━━━━━━━━━━━━━━━━━━━\u001b[0m\u001b[37m\u001b[0m \u001b[1m0s\u001b[0m 14ms/step - PR AUC: 0.7316 - loss: 0.3366 - val_PR AUC: 0.7307 - val_loss: 0.3366\n",
      "Epoch 6/10\n",
      "\u001b[1m 1/27\u001b[0m \u001b[37m━━━━━━━━━━━━━━━━━━━━\u001b[0m \u001b[1m0s\u001b[0m 35ms/step - PR AUC: 0.7661 - loss: 0.3122"
     ]
    },
    {
     "name": "stderr",
     "output_type": "stream",
     "text": [
      "2024-04-07 21:40:35.400288: W tensorflow/core/framework/local_rendezvous.cc:404] Local rendezvous is aborting with status: OUT_OF_RANGE: End of sequence\n",
      "2024-04-07 21:40:35.446218: W tensorflow/core/framework/local_rendezvous.cc:404] Local rendezvous is aborting with status: OUT_OF_RANGE: End of sequence\n"
     ]
    },
    {
     "name": "stdout",
     "output_type": "stream",
     "text": [
      "\u001b[1m27/27\u001b[0m \u001b[32m━━━━━━━━━━━━━━━━━━━━\u001b[0m\u001b[37m\u001b[0m \u001b[1m0s\u001b[0m 11ms/step - PR AUC: 0.7435 - loss: 0.3325 - val_PR AUC: 0.7355 - val_loss: 0.3367\n",
      "Epoch 7/10\n",
      "\u001b[1m 7/27\u001b[0m \u001b[32m━━━━━\u001b[0m\u001b[37m━━━━━━━━━━━━━━━\u001b[0m \u001b[1m0s\u001b[0m 10ms/step - PR AUC: 0.7399 - loss: 0.3366"
     ]
    },
    {
     "name": "stderr",
     "output_type": "stream",
     "text": [
      "2024-04-07 21:40:35.817748: W tensorflow/core/framework/local_rendezvous.cc:404] Local rendezvous is aborting with status: OUT_OF_RANGE: End of sequence\n",
      "2024-04-07 21:40:35.863301: W tensorflow/core/framework/local_rendezvous.cc:404] Local rendezvous is aborting with status: OUT_OF_RANGE: End of sequence\n"
     ]
    },
    {
     "name": "stdout",
     "output_type": "stream",
     "text": [
      "\u001b[1m27/27\u001b[0m \u001b[32m━━━━━━━━━━━━━━━━━━━━\u001b[0m\u001b[37m\u001b[0m \u001b[1m0s\u001b[0m 15ms/step - PR AUC: 0.7304 - loss: 0.3365 - val_PR AUC: 0.7302 - val_loss: 0.3363\n",
      "Epoch 8/10\n"
     ]
    },
    {
     "name": "stderr",
     "output_type": "stream",
     "text": [
      "2024-04-07 21:40:36.144201: W tensorflow/core/framework/local_rendezvous.cc:404] Local rendezvous is aborting with status: OUT_OF_RANGE: End of sequence\n",
      "2024-04-07 21:40:36.235711: W tensorflow/core/framework/local_rendezvous.cc:404] Local rendezvous is aborting with status: OUT_OF_RANGE: End of sequence\n"
     ]
    },
    {
     "name": "stdout",
     "output_type": "stream",
     "text": [
      "\u001b[1m27/27\u001b[0m \u001b[32m━━━━━━━━━━━━━━━━━━━━\u001b[0m\u001b[37m\u001b[0m \u001b[1m0s\u001b[0m 14ms/step - PR AUC: 0.7376 - loss: 0.3339 - val_PR AUC: 0.7391 - val_loss: 0.3349\n",
      "Epoch 9/10\n",
      "\u001b[1m 1/27\u001b[0m \u001b[37m━━━━━━━━━━━━━━━━━━━━\u001b[0m \u001b[1m0s\u001b[0m 36ms/step - PR AUC: 0.6800 - loss: 0.3583"
     ]
    },
    {
     "name": "stderr",
     "output_type": "stream",
     "text": [
      "2024-04-07 21:40:36.630941: W tensorflow/core/framework/local_rendezvous.cc:404] Local rendezvous is aborting with status: OUT_OF_RANGE: End of sequence\n",
      "2024-04-07 21:40:36.674135: W tensorflow/core/framework/local_rendezvous.cc:404] Local rendezvous is aborting with status: OUT_OF_RANGE: End of sequence\n"
     ]
    },
    {
     "name": "stdout",
     "output_type": "stream",
     "text": [
      "\u001b[1m27/27\u001b[0m \u001b[32m━━━━━━━━━━━━━━━━━━━━\u001b[0m\u001b[37m\u001b[0m \u001b[1m0s\u001b[0m 14ms/step - PR AUC: 0.7315 - loss: 0.3363 - val_PR AUC: 0.7366 - val_loss: 0.3327\n",
      "Epoch 10/10\n"
     ]
    },
    {
     "name": "stderr",
     "output_type": "stream",
     "text": [
      "2024-04-07 21:40:37.031455: W tensorflow/core/framework/local_rendezvous.cc:404] Local rendezvous is aborting with status: OUT_OF_RANGE: End of sequence\n",
      "2024-04-07 21:40:37.076428: W tensorflow/core/framework/local_rendezvous.cc:404] Local rendezvous is aborting with status: OUT_OF_RANGE: End of sequence\n"
     ]
    },
    {
     "name": "stdout",
     "output_type": "stream",
     "text": [
      "\u001b[1m27/27\u001b[0m \u001b[32m━━━━━━━━━━━━━━━━━━━━\u001b[0m\u001b[37m\u001b[0m \u001b[1m0s\u001b[0m 10ms/step - PR AUC: 0.7413 - loss: 0.3267 - val_PR AUC: 0.7332 - val_loss: 0.3366\n"
     ]
    },
    {
     "name": "stderr",
     "output_type": "stream",
     "text": [
      "2024-04-07 21:40:37.444892: W tensorflow/core/framework/local_rendezvous.cc:404] Local rendezvous is aborting with status: OUT_OF_RANGE: End of sequence\n",
      "2024-04-07 21:40:37.487924: W tensorflow/core/framework/local_rendezvous.cc:404] Local rendezvous is aborting with status: OUT_OF_RANGE: End of sequence\n"
     ]
    }
   ],
   "source": [
    "hist = model.fit(\n",
    "    train_dataset, \n",
    "    epochs=NUM_EPOCHS, \n",
    "    validation_data=val_dataset,\n",
    "    callbacks=callback_list\n",
    ")"
   ]
  },
  {
   "cell_type": "code",
   "execution_count": 18,
   "id": "902ec742-d2c1-47ba-88d9-3ab4153108fb",
   "metadata": {},
   "outputs": [
    {
     "data": {
      "image/png": "[encoded data removed]",
      "text/plain": [
       "<Figure size 2000x1000 with 2 Axes>"
      ]
     },
     "metadata": {},
     "output_type": "display_data"
    }
   ],
   "source": [
    "hist_plot = plot_training_hist(hist.history, EXPLANATIONS)"
   ]
  },
  {
   "cell_type": "code",
   "execution_count": 19,
   "id": "bb8d3a81-2009-4242-a196-a5ea25171e46",
   "metadata": {},
   "outputs": [
    {
     "name": "stdout",
     "output_type": "stream",
     "text": [
      "\u001b[1m 1/17\u001b[0m \u001b[32m━\u001b[0m\u001b[37m━━━━━━━━━━━━━━━━━━━\u001b[0m \u001b[1m19s\u001b[0m 1s/step"
     ]
    },
    {
     "name": "stderr",
     "output_type": "stream",
     "text": [
      "2024-04-07 21:40:39.064919: W tensorflow/core/framework/local_rendezvous.cc:404] Local rendezvous is aborting with status: OUT_OF_RANGE: End of sequence\n"
     ]
    },
    {
     "name": "stdout",
     "output_type": "stream",
     "text": [
      "\u001b[1m17/17\u001b[0m \u001b[32m━━━━━━━━━━━━━━━━━━━━\u001b[0m\u001b[37m\u001b[0m \u001b[1m3s\u001b[0m 128ms/step\n",
      "Test ROC AUC: 0.8961\n",
      "Test PR AUC: 0.7311\n",
      "Test Accuracy: 0.8474\n"
     ]
    }
   ],
   "source": [
    "preds = model.predict(test_dataset)\n",
    "flat_preds = preds.ravel()\n",
    "print(\"Test ROC AUC:\", np.round(roc_auc_score(test_data[LABEL], flat_preds), 4))\n",
    "print(\"Test PR AUC:\", np.round(average_precision_score(test_data[LABEL], flat_preds), 4))\n",
    "print(\"Test Accuracy:\", np.round(accuracy_score(test_data[LABEL], flat_preds > 0.5), 4))\n",
    "\n",
    "# Reported accuracy - 0.858"
   ]
  },
  {
   "cell_type": "markdown",
   "id": "343588c8-1298-47c9-bc29-99204e6c31a7",
   "metadata": {},
   "source": [
    "## Explainability"
   ]
  },
  {
   "cell_type": "code",
   "execution_count": 20,
   "id": "3d0936a3-d41c-4071-b46c-d7c73a403fc6",
   "metadata": {},
   "outputs": [],
   "source": [
    "# if 'importances' in preds.keys():\n",
    "#     importances = preds['importances']\n",
    "#     importances_df = pd.DataFrame(importances[:, :-1], columns = FEATURES)\n",
    "#     importances_fig, total_importances = plot_importances(\n",
    "#         importances_df, \n",
    "#         title=\"Importances for FT-Transformer\"\n",
    "#     )"
   ]
  },
  {
   "cell_type": "code",
   "execution_count": null,
   "id": "167d8831-5b0b-4292-bab9-cf1c179d0b66",
   "metadata": {},
   "outputs": [],
   "source": []
  }
 ],
 "metadata": {
  "kernelspec": {
   "display_name": "venv",
   "language": "python",
   "name": "python3"
  },
  "language_info": {
   "codemirror_mode": {
    "name": "ipython",
    "version": 3
   },
   "file_extension": ".py",
   "mimetype": "text/x-python",
   "name": "python",
   "nbconvert_exporter": "python",
   "pygments_lexer": "ipython3",
   "version": "3.10.12"
  }
 },
 "nbformat": 4,
 "nbformat_minor": 5
}
